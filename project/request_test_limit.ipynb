{
 "cells": [
  {
   "cell_type": "code",
   "execution_count": 1,
   "id": "d2fb8b6d-a07a-48bf-b1bd-4850ba790af6",
   "metadata": {},
   "outputs": [],
   "source": [
    "import requests\n",
    "import pandas as pd"
   ]
  },
  {
   "cell_type": "code",
   "execution_count": 2,
   "id": "a73acad9-8d9f-4ba8-b269-3861b965cfa8",
   "metadata": {},
   "outputs": [],
   "source": [
    "ip_n_port = '127.0.0.1:3225'"
   ]
  },
  {
   "cell_type": "code",
   "execution_count": 3,
   "id": "fed444d0-d309-4497-936a-4e09ec6a6a15",
   "metadata": {},
   "outputs": [
    {
     "data": {
      "text/plain": [
       "'127.0.0.1:3225'"
      ]
     },
     "execution_count": 3,
     "metadata": {},
     "output_type": "execute_result"
    }
   ],
   "source": [
    "f'{ip_n_port}'"
   ]
  },
  {
   "cell_type": "code",
   "execution_count": 4,
   "id": "d5ffa205-407f-4241-a8a0-6c9a3f3898ad",
   "metadata": {},
   "outputs": [],
   "source": [
    "f = requests.get(f'http://{ip_n_port}/')"
   ]
  },
  {
   "cell_type": "code",
   "execution_count": 1,
   "id": "ee92a555-4309-418e-964b-b57967ac355e",
   "metadata": {},
   "outputs": [],
   "source": [
    "# f.json()"
   ]
  },
  {
   "cell_type": "code",
   "execution_count": 6,
   "id": "75c3967b-74ee-4c1b-84d2-4d5d10c929ad",
   "metadata": {
    "tags": []
   },
   "outputs": [],
   "source": [
    "gtp_code_1 = 'test_1'\n",
    "gtp_code_2 = 'test_2'"
   ]
  },
  {
   "cell_type": "code",
   "execution_count": 23,
   "id": "30a8cfc2-768e-40dd-a4dc-e3ba54877dde",
   "metadata": {
    "tags": []
   },
   "outputs": [],
   "source": [
    "# 1 - weather_to_bd"
   ]
  },
  {
   "cell_type": "code",
   "execution_count": 24,
   "id": "5e7ccc35-4cbc-44e4-998b-9cb48e998f8a",
   "metadata": {
    "tags": []
   },
   "outputs": [],
   "source": [
    "f = requests.post(f\"http://{ip_n_port}/weather_to_bd\", json = {'gtp_code': gtp_code_1})"
   ]
  },
  {
   "cell_type": "code",
   "execution_count": 2,
   "id": "ad68d0cd-7ece-4606-a9c7-fd3fe6b82140",
   "metadata": {
    "tags": []
   },
   "outputs": [],
   "source": [
    "# f.json()"
   ]
  },
  {
   "cell_type": "code",
   "execution_count": 26,
   "id": "02942cad-2bdc-4888-9306-1c65376ee713",
   "metadata": {
    "tags": []
   },
   "outputs": [],
   "source": [
    "# 2 - model_training"
   ]
  },
  {
   "cell_type": "code",
   "execution_count": 7,
   "id": "45f5bd55-c975-4a66-9e25-be6bb08eb315",
   "metadata": {
    "tags": []
   },
   "outputs": [],
   "source": [
    "f = requests.post(f\"http://{ip_n_port}/model_training\", json = {'gtp_code': gtp_code_1})"
   ]
  },
  {
   "cell_type": "code",
   "execution_count": 3,
   "id": "f706b701-7728-4561-b7af-6303d049b405",
   "metadata": {
    "tags": []
   },
   "outputs": [],
   "source": [
    "# f.json()"
   ]
  },
  {
   "cell_type": "code",
   "execution_count": 9,
   "id": "cf6a9b91-ea3c-4587-9e04-f76588471c44",
   "metadata": {
    "tags": []
   },
   "outputs": [],
   "source": [
    "f = requests.post(f\"http://{ip_n_port}/model_training\", json = {'gtp_code': gtp_code_2})"
   ]
  },
  {
   "cell_type": "code",
   "execution_count": 4,
   "id": "b1c465d8-7888-4a60-b9d6-37aec7aeb3f1",
   "metadata": {
    "tags": []
   },
   "outputs": [],
   "source": [
    "# f.json()"
   ]
  },
  {
   "cell_type": "code",
   "execution_count": 29,
   "id": "8a7e9869-106b-4beb-90b4-5523bc612c3d",
   "metadata": {
    "tags": []
   },
   "outputs": [],
   "source": [
    "# 3 - forecast_to_bd"
   ]
  },
  {
   "cell_type": "code",
   "execution_count": 30,
   "id": "6c828044-2ba0-4707-888a-0a19cab99194",
   "metadata": {
    "tags": []
   },
   "outputs": [],
   "source": [
    "f = requests.post(f\"http://{ip_n_port}/forecast_to_bd\", json = {'gtp_code': gtp_code_1})"
   ]
  },
  {
   "cell_type": "code",
   "execution_count": 5,
   "id": "31970beb-e893-4e33-88fe-fb65c6857192",
   "metadata": {
    "tags": []
   },
   "outputs": [],
   "source": [
    "# f.json()"
   ]
  },
  {
   "cell_type": "code",
   "execution_count": 32,
   "id": "497a45af-c99f-4dc3-811f-68bd993ebfaa",
   "metadata": {
    "tags": []
   },
   "outputs": [],
   "source": [
    "# 4 - send_forecast_to_email"
   ]
  },
  {
   "cell_type": "code",
   "execution_count": 33,
   "id": "c8daf7d0-435d-4a83-8495-1e737dd7dd38",
   "metadata": {
    "tags": []
   },
   "outputs": [],
   "source": [
    "f = requests.post(f\"http://{ip_n_port}/send_forecast_to_email\", json = {'gtp_code': gtp_code_1})"
   ]
  },
  {
   "cell_type": "code",
   "execution_count": 34,
   "id": "d747961f-5d43-446e-94ae-c5db0b6c60fe",
   "metadata": {
    "tags": []
   },
   "outputs": [],
   "source": [
    "f.json()"
   ]
  },
  {
   "cell_type": "code",
   "execution_count": null,
   "id": "fbe6f89d-f009-4121-8ebc-3eb632f7a4b4",
   "metadata": {},
   "outputs": [],
   "source": []
  }
 ],
 "metadata": {
  "kernelspec": {
   "display_name": "Python 3 (ipykernel)",
   "language": "python",
   "name": "python3"
  },
  "language_info": {
   "codemirror_mode": {
    "name": "ipython",
    "version": 3
   },
   "file_extension": ".py",
   "mimetype": "text/x-python",
   "name": "python",
   "nbconvert_exporter": "python",
   "pygments_lexer": "ipython3",
   "version": "3.11.5"
  }
 },
 "nbformat": 4,
 "nbformat_minor": 5
}
